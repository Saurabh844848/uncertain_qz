{
 "cells": [
  {
   "cell_type": "code",
   "execution_count": 1,
   "metadata": {},
   "outputs": [],
   "source": [
    "import numpy as np\n",
    "import matplotlib.pyplot as plt\n",
    "import sympy as sp\n",
    "import networkx as nx\n",
    "import heapq\n",
    "import time\n",
    "from utils_discrete import GraphConstructionDiscretization, biobjective_search, extract_costs, check_pareto_optimality, plot_costs, reconstruct_solution_paths"
   ]
  },
  {
   "cell_type": "code",
   "execution_count": null,
   "metadata": {},
   "outputs": [],
   "source": [
    "# =============================================================================\n",
    "# Constants, UAV parameters, and initial conditions\n",
    "# =============================================================================\n",
    "# Define QZ circles as tuples (x, y, radius, only_electric_radius, risk_limit, toggle_only_electric_or_no_path) toggle_only_electric_or_no_path = 0 for no path, 1 for only electric\n",
    "map_qz = [(0.0, 0.0, 6.0, 2.0, 30, 1), (12.0, 10.0, 4.0, 1.5, 30, 1)]\n",
    "\n",
    "max_risk_limit = 2/3*sum( [circle[-2] for circle in map_qz] )\n",
    "acceptable_risk_limit = max_risk_limit/2\n",
    "start = (-5, -5)       # Starting point\n",
    "goal = (15, 15)        # Goal point\n",
    "\n",
    "# UAV characteristics\n",
    "alpha = 0.5\n",
    "recharge_factor = 2\n",
    "beta = alpha / recharge_factor\n",
    "\n",
    "q_min, q_max, q_act = 20, 100, 50\n",
    "discretization_angle = 10"
   ]
  },
  {
   "cell_type": "code",
   "execution_count": null,
   "metadata": {},
   "outputs": [],
   "source": []
  }
 ],
 "metadata": {
  "kernelspec": {
   "display_name": "Autodrive",
   "language": "python",
   "name": "python3"
  },
  "language_info": {
   "codemirror_mode": {
    "name": "ipython",
    "version": 3
   },
   "file_extension": ".py",
   "mimetype": "text/x-python",
   "name": "python",
   "nbconvert_exporter": "python",
   "pygments_lexer": "ipython3",
   "version": "3.10.13"
  }
 },
 "nbformat": 4,
 "nbformat_minor": 2
}
